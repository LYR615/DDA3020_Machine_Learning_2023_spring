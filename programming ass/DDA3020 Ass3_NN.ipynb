{
 "cells": [
  {
   "cell_type": "code",
   "execution_count": 1,
   "id": "3dd580d2",
   "metadata": {},
   "outputs": [],
   "source": [
    "import pandas as pd     \n",
    "import numpy as np     \n",
    "\n",
    "from sklearn.neural_network import MLPClassifier\n",
    "from sklearn.metrics import accuracy_score\n",
    "from sklearn.model_selection import train_test_split\n",
    "from sklearn.preprocessing import StandardScaler  "
   ]
  },
  {
   "cell_type": "markdown",
   "id": "a67e5edf",
   "metadata": {},
   "source": [
    "# 2. Fashion-MNIST Recognition using sk-learn  "
   ]
  },
  {
   "cell_type": "code",
   "execution_count": 2,
   "id": "9f327f50",
   "metadata": {},
   "outputs": [],
   "source": [
    "train_data = pd.read_csv('/Users/azura/Desktop/DDA_ass3/train.csv')\n",
    "test_data = pd.read_csv('/Users/azura/Desktop/DDA_ass3/test.csv')        "
   ]
  },
  {
   "cell_type": "code",
   "execution_count": 3,
   "id": "ae01ac96",
   "metadata": {},
   "outputs": [
    {
     "data": {
      "text/html": [
       "<div>\n",
       "<style scoped>\n",
       "    .dataframe tbody tr th:only-of-type {\n",
       "        vertical-align: middle;\n",
       "    }\n",
       "\n",
       "    .dataframe tbody tr th {\n",
       "        vertical-align: top;\n",
       "    }\n",
       "\n",
       "    .dataframe thead th {\n",
       "        text-align: right;\n",
       "    }\n",
       "</style>\n",
       "<table border=\"1\" class=\"dataframe\">\n",
       "  <thead>\n",
       "    <tr style=\"text-align: right;\">\n",
       "      <th></th>\n",
       "      <th>Category</th>\n",
       "      <th>Pixel000</th>\n",
       "      <th>Pixel001</th>\n",
       "      <th>Pixel002</th>\n",
       "      <th>Pixel003</th>\n",
       "      <th>Pixel004</th>\n",
       "      <th>Pixel005</th>\n",
       "      <th>Pixel006</th>\n",
       "      <th>Pixel007</th>\n",
       "      <th>Pixel008</th>\n",
       "      <th>...</th>\n",
       "      <th>Pixel774</th>\n",
       "      <th>Pixel775</th>\n",
       "      <th>Pixel776</th>\n",
       "      <th>Pixel777</th>\n",
       "      <th>Pixel778</th>\n",
       "      <th>Pixel779</th>\n",
       "      <th>Pixel780</th>\n",
       "      <th>Pixel781</th>\n",
       "      <th>Pixel782</th>\n",
       "      <th>Pixel783</th>\n",
       "    </tr>\n",
       "  </thead>\n",
       "  <tbody>\n",
       "    <tr>\n",
       "      <th>0</th>\n",
       "      <td>2</td>\n",
       "      <td>0</td>\n",
       "      <td>0</td>\n",
       "      <td>0</td>\n",
       "      <td>0</td>\n",
       "      <td>0</td>\n",
       "      <td>0</td>\n",
       "      <td>0</td>\n",
       "      <td>0</td>\n",
       "      <td>0</td>\n",
       "      <td>...</td>\n",
       "      <td>0</td>\n",
       "      <td>0</td>\n",
       "      <td>0</td>\n",
       "      <td>0</td>\n",
       "      <td>0</td>\n",
       "      <td>0</td>\n",
       "      <td>0</td>\n",
       "      <td>0</td>\n",
       "      <td>0</td>\n",
       "      <td>0</td>\n",
       "    </tr>\n",
       "    <tr>\n",
       "      <th>1</th>\n",
       "      <td>9</td>\n",
       "      <td>0</td>\n",
       "      <td>0</td>\n",
       "      <td>0</td>\n",
       "      <td>0</td>\n",
       "      <td>0</td>\n",
       "      <td>0</td>\n",
       "      <td>0</td>\n",
       "      <td>0</td>\n",
       "      <td>0</td>\n",
       "      <td>...</td>\n",
       "      <td>0</td>\n",
       "      <td>0</td>\n",
       "      <td>0</td>\n",
       "      <td>0</td>\n",
       "      <td>0</td>\n",
       "      <td>0</td>\n",
       "      <td>0</td>\n",
       "      <td>0</td>\n",
       "      <td>0</td>\n",
       "      <td>0</td>\n",
       "    </tr>\n",
       "    <tr>\n",
       "      <th>2</th>\n",
       "      <td>6</td>\n",
       "      <td>0</td>\n",
       "      <td>0</td>\n",
       "      <td>0</td>\n",
       "      <td>0</td>\n",
       "      <td>0</td>\n",
       "      <td>0</td>\n",
       "      <td>0</td>\n",
       "      <td>5</td>\n",
       "      <td>0</td>\n",
       "      <td>...</td>\n",
       "      <td>0</td>\n",
       "      <td>0</td>\n",
       "      <td>0</td>\n",
       "      <td>30</td>\n",
       "      <td>43</td>\n",
       "      <td>0</td>\n",
       "      <td>0</td>\n",
       "      <td>0</td>\n",
       "      <td>0</td>\n",
       "      <td>0</td>\n",
       "    </tr>\n",
       "    <tr>\n",
       "      <th>3</th>\n",
       "      <td>0</td>\n",
       "      <td>0</td>\n",
       "      <td>0</td>\n",
       "      <td>0</td>\n",
       "      <td>1</td>\n",
       "      <td>2</td>\n",
       "      <td>0</td>\n",
       "      <td>0</td>\n",
       "      <td>0</td>\n",
       "      <td>0</td>\n",
       "      <td>...</td>\n",
       "      <td>3</td>\n",
       "      <td>0</td>\n",
       "      <td>0</td>\n",
       "      <td>0</td>\n",
       "      <td>0</td>\n",
       "      <td>1</td>\n",
       "      <td>0</td>\n",
       "      <td>0</td>\n",
       "      <td>0</td>\n",
       "      <td>0</td>\n",
       "    </tr>\n",
       "    <tr>\n",
       "      <th>4</th>\n",
       "      <td>3</td>\n",
       "      <td>0</td>\n",
       "      <td>0</td>\n",
       "      <td>0</td>\n",
       "      <td>0</td>\n",
       "      <td>0</td>\n",
       "      <td>0</td>\n",
       "      <td>0</td>\n",
       "      <td>0</td>\n",
       "      <td>0</td>\n",
       "      <td>...</td>\n",
       "      <td>0</td>\n",
       "      <td>0</td>\n",
       "      <td>0</td>\n",
       "      <td>0</td>\n",
       "      <td>0</td>\n",
       "      <td>0</td>\n",
       "      <td>0</td>\n",
       "      <td>0</td>\n",
       "      <td>0</td>\n",
       "      <td>0</td>\n",
       "    </tr>\n",
       "  </tbody>\n",
       "</table>\n",
       "<p>5 rows × 785 columns</p>\n",
       "</div>"
      ],
      "text/plain": [
       "   Category  Pixel000  Pixel001  Pixel002  Pixel003  Pixel004  Pixel005  \\\n",
       "0         2         0         0         0         0         0         0   \n",
       "1         9         0         0         0         0         0         0   \n",
       "2         6         0         0         0         0         0         0   \n",
       "3         0         0         0         0         1         2         0   \n",
       "4         3         0         0         0         0         0         0   \n",
       "\n",
       "   Pixel006  Pixel007  Pixel008  ...  Pixel774  Pixel775  Pixel776  Pixel777  \\\n",
       "0         0         0         0  ...         0         0         0         0   \n",
       "1         0         0         0  ...         0         0         0         0   \n",
       "2         0         5         0  ...         0         0         0        30   \n",
       "3         0         0         0  ...         3         0         0         0   \n",
       "4         0         0         0  ...         0         0         0         0   \n",
       "\n",
       "   Pixel778  Pixel779  Pixel780  Pixel781  Pixel782  Pixel783  \n",
       "0         0         0         0         0         0         0  \n",
       "1         0         0         0         0         0         0  \n",
       "2        43         0         0         0         0         0  \n",
       "3         0         1         0         0         0         0  \n",
       "4         0         0         0         0         0         0  \n",
       "\n",
       "[5 rows x 785 columns]"
      ]
     },
     "execution_count": 3,
     "metadata": {},
     "output_type": "execute_result"
    }
   ],
   "source": [
    "train_data  = train_data.drop(columns = ['Id'])    \n",
    "train_data.head()  "
   ]
  },
  {
   "cell_type": "code",
   "execution_count": 4,
   "id": "785563e5",
   "metadata": {},
   "outputs": [
    {
     "data": {
      "text/html": [
       "<div>\n",
       "<style scoped>\n",
       "    .dataframe tbody tr th:only-of-type {\n",
       "        vertical-align: middle;\n",
       "    }\n",
       "\n",
       "    .dataframe tbody tr th {\n",
       "        vertical-align: top;\n",
       "    }\n",
       "\n",
       "    .dataframe thead th {\n",
       "        text-align: right;\n",
       "    }\n",
       "</style>\n",
       "<table border=\"1\" class=\"dataframe\">\n",
       "  <thead>\n",
       "    <tr style=\"text-align: right;\">\n",
       "      <th></th>\n",
       "      <th>Category</th>\n",
       "      <th>Pixel000</th>\n",
       "      <th>Pixel001</th>\n",
       "      <th>Pixel002</th>\n",
       "      <th>Pixel003</th>\n",
       "      <th>Pixel004</th>\n",
       "      <th>Pixel005</th>\n",
       "      <th>Pixel006</th>\n",
       "      <th>Pixel007</th>\n",
       "      <th>Pixel008</th>\n",
       "      <th>...</th>\n",
       "      <th>Pixel774</th>\n",
       "      <th>Pixel775</th>\n",
       "      <th>Pixel776</th>\n",
       "      <th>Pixel777</th>\n",
       "      <th>Pixel778</th>\n",
       "      <th>Pixel779</th>\n",
       "      <th>Pixel780</th>\n",
       "      <th>Pixel781</th>\n",
       "      <th>Pixel782</th>\n",
       "      <th>Pixel783</th>\n",
       "    </tr>\n",
       "  </thead>\n",
       "  <tbody>\n",
       "    <tr>\n",
       "      <th>0</th>\n",
       "      <td>0</td>\n",
       "      <td>0</td>\n",
       "      <td>0</td>\n",
       "      <td>0</td>\n",
       "      <td>0</td>\n",
       "      <td>0</td>\n",
       "      <td>0</td>\n",
       "      <td>0</td>\n",
       "      <td>9</td>\n",
       "      <td>8</td>\n",
       "      <td>...</td>\n",
       "      <td>103</td>\n",
       "      <td>87</td>\n",
       "      <td>56</td>\n",
       "      <td>0</td>\n",
       "      <td>0</td>\n",
       "      <td>0</td>\n",
       "      <td>0</td>\n",
       "      <td>0</td>\n",
       "      <td>0</td>\n",
       "      <td>0</td>\n",
       "    </tr>\n",
       "    <tr>\n",
       "      <th>1</th>\n",
       "      <td>1</td>\n",
       "      <td>0</td>\n",
       "      <td>0</td>\n",
       "      <td>0</td>\n",
       "      <td>0</td>\n",
       "      <td>0</td>\n",
       "      <td>0</td>\n",
       "      <td>0</td>\n",
       "      <td>0</td>\n",
       "      <td>0</td>\n",
       "      <td>...</td>\n",
       "      <td>34</td>\n",
       "      <td>0</td>\n",
       "      <td>0</td>\n",
       "      <td>0</td>\n",
       "      <td>0</td>\n",
       "      <td>0</td>\n",
       "      <td>0</td>\n",
       "      <td>0</td>\n",
       "      <td>0</td>\n",
       "      <td>0</td>\n",
       "    </tr>\n",
       "    <tr>\n",
       "      <th>2</th>\n",
       "      <td>2</td>\n",
       "      <td>0</td>\n",
       "      <td>0</td>\n",
       "      <td>0</td>\n",
       "      <td>0</td>\n",
       "      <td>0</td>\n",
       "      <td>0</td>\n",
       "      <td>14</td>\n",
       "      <td>53</td>\n",
       "      <td>99</td>\n",
       "      <td>...</td>\n",
       "      <td>0</td>\n",
       "      <td>0</td>\n",
       "      <td>0</td>\n",
       "      <td>0</td>\n",
       "      <td>63</td>\n",
       "      <td>53</td>\n",
       "      <td>31</td>\n",
       "      <td>0</td>\n",
       "      <td>0</td>\n",
       "      <td>0</td>\n",
       "    </tr>\n",
       "    <tr>\n",
       "      <th>3</th>\n",
       "      <td>2</td>\n",
       "      <td>0</td>\n",
       "      <td>0</td>\n",
       "      <td>0</td>\n",
       "      <td>0</td>\n",
       "      <td>0</td>\n",
       "      <td>0</td>\n",
       "      <td>0</td>\n",
       "      <td>0</td>\n",
       "      <td>0</td>\n",
       "      <td>...</td>\n",
       "      <td>137</td>\n",
       "      <td>126</td>\n",
       "      <td>140</td>\n",
       "      <td>0</td>\n",
       "      <td>133</td>\n",
       "      <td>224</td>\n",
       "      <td>222</td>\n",
       "      <td>56</td>\n",
       "      <td>0</td>\n",
       "      <td>0</td>\n",
       "    </tr>\n",
       "    <tr>\n",
       "      <th>4</th>\n",
       "      <td>3</td>\n",
       "      <td>0</td>\n",
       "      <td>0</td>\n",
       "      <td>0</td>\n",
       "      <td>0</td>\n",
       "      <td>0</td>\n",
       "      <td>0</td>\n",
       "      <td>0</td>\n",
       "      <td>0</td>\n",
       "      <td>0</td>\n",
       "      <td>...</td>\n",
       "      <td>0</td>\n",
       "      <td>0</td>\n",
       "      <td>0</td>\n",
       "      <td>0</td>\n",
       "      <td>0</td>\n",
       "      <td>0</td>\n",
       "      <td>0</td>\n",
       "      <td>0</td>\n",
       "      <td>0</td>\n",
       "      <td>0</td>\n",
       "    </tr>\n",
       "  </tbody>\n",
       "</table>\n",
       "<p>5 rows × 785 columns</p>\n",
       "</div>"
      ],
      "text/plain": [
       "   Category  Pixel000  Pixel001  Pixel002  Pixel003  Pixel004  Pixel005  \\\n",
       "0         0         0         0         0         0         0         0   \n",
       "1         1         0         0         0         0         0         0   \n",
       "2         2         0         0         0         0         0         0   \n",
       "3         2         0         0         0         0         0         0   \n",
       "4         3         0         0         0         0         0         0   \n",
       "\n",
       "   Pixel006  Pixel007  Pixel008  ...  Pixel774  Pixel775  Pixel776  Pixel777  \\\n",
       "0         0         9         8  ...       103        87        56         0   \n",
       "1         0         0         0  ...        34         0         0         0   \n",
       "2        14        53        99  ...         0         0         0         0   \n",
       "3         0         0         0  ...       137       126       140         0   \n",
       "4         0         0         0  ...         0         0         0         0   \n",
       "\n",
       "   Pixel778  Pixel779  Pixel780  Pixel781  Pixel782  Pixel783  \n",
       "0         0         0         0         0         0         0  \n",
       "1         0         0         0         0         0         0  \n",
       "2        63        53        31         0         0         0  \n",
       "3       133       224       222        56         0         0  \n",
       "4         0         0         0         0         0         0  \n",
       "\n",
       "[5 rows x 785 columns]"
      ]
     },
     "execution_count": 4,
     "metadata": {},
     "output_type": "execute_result"
    }
   ],
   "source": [
    "new_column_names = train_data.columns\n",
    "test_data.columns = new_column_names  \n",
    "\n",
    "test_data.head() "
   ]
  },
  {
   "cell_type": "code",
   "execution_count": 5,
   "id": "8b4177dd",
   "metadata": {},
   "outputs": [],
   "source": [
    "X_train = train_data.drop(columns = ['Category'])\n",
    "y_train = train_data['Category']   \n",
    "    \n",
    "X_test = test_data.drop(columns = ['Category'])    \n",
    "y_test = test_data['Category']         "
   ]
  },
  {
   "cell_type": "code",
   "execution_count": 6,
   "id": "260b4005",
   "metadata": {},
   "outputs": [
    {
     "name": "stdout",
     "output_type": "stream",
     "text": [
      "Prediction accuracy: 0.8531\n"
     ]
    }
   ],
   "source": [
    "# case 1\n",
    "    \n",
    "# number of hidden layers = 1\n",
    "# number of hidden nodes = 50\n",
    "# optimizer = adam\n",
    "\n",
    "mlp_classifier = MLPClassifier(hidden_layer_sizes=(50), \n",
    "                               solver='adam',\n",
    "                               learning_rate_init = 0.001)\n",
    "   \n",
    "mlp_classifier.fit(X_train, y_train)  \n",
    "\n",
    "y_test_pred = mlp_classifier.predict(X_test)   \n",
    "\n",
    "y_train_pred = mlp_classifier.predict(X_train)\n",
    "\n",
    "train_accuracy = accuracy_score(y_train, y_train_pred)\n",
    "print(\"Training Accuracy:\", train_accuracy)\n",
    "test_accuracy = accuracy_score(y_test, y_pred)\n",
    "print(\"Prediction accuracy:\", accuracy)"
   ]
  },
  {
   "cell_type": "code",
   "execution_count": 7,
   "id": "03cd3217",
   "metadata": {},
   "outputs": [
    {
     "name": "stdout",
     "output_type": "stream",
     "text": [
      "Prediction accuracy: 0.8716\n"
     ]
    }
   ],
   "source": [
    "# case 2\n",
    "\n",
    "# number of hidden layers = 2\n",
    "# number of hidden nodes = 50\n",
    "# optimizer = adam\n",
    "\n",
    "mlp_classifier = MLPClassifier(hidden_layer_sizes=(50, 50), \n",
    "                               solver='adam',\n",
    "                               learning_rate_init = 0.001)\n",
    "   \n",
    "mlp_classifier.fit(X_train, y_train)  \n",
    "\n",
    "y_pred = mlp_classifier.predict(X_test)   \n",
    "\n",
    "accuracy = accuracy_score(y_test, y_pred)\n",
    "print(\"Prediction accuracy:\", accuracy)"
   ]
  },
  {
   "cell_type": "code",
   "execution_count": 8,
   "id": "4544150b",
   "metadata": {},
   "outputs": [
    {
     "name": "stdout",
     "output_type": "stream",
     "text": [
      "Prediction accuracy: 0.868\n"
     ]
    }
   ],
   "source": [
    "# case 3\n",
    "\n",
    "# number of hidden layers = 3\n",
    "# number of hidden nodes = 50\n",
    "# optimizer = adam\n",
    "\n",
    "mlp_classifier = MLPClassifier(hidden_layer_sizes=(50, 50, 50), \n",
    "                               solver='adam',\n",
    "                               learning_rate_init = 0.001)\n",
    "   \n",
    "mlp_classifier.fit(X_train, y_train)  \n",
    "\n",
    "y_pred = mlp_classifier.predict(X_test)   \n",
    "\n",
    "accuracy = accuracy_score(y_test, y_pred)\n",
    "print(\"Prediction accuracy:\", accuracy)"
   ]
  },
  {
   "cell_type": "code",
   "execution_count": 9,
   "id": "08652621",
   "metadata": {},
   "outputs": [
    {
     "name": "stdout",
     "output_type": "stream",
     "text": [
      "Prediction accuracy: 0.871\n"
     ]
    }
   ],
   "source": [
    "# case 4\n",
    "\n",
    "# number of hidden layers = 1\n",
    "# number of hidden nodes = 200\n",
    "# optimizer = adam\n",
    "\n",
    "mlp_classifier = MLPClassifier(hidden_layer_sizes=(200), \n",
    "                               solver='adam',\n",
    "                               learning_rate_init = 0.001)\n",
    "   \n",
    "mlp_classifier.fit(X_train, y_train)  \n",
    "\n",
    "y_pred = mlp_classifier.predict(X_test)   \n",
    "\n",
    "accuracy = accuracy_score(y_test, y_pred)\n",
    "print(\"Prediction accuracy:\", accuracy)"
   ]
  },
  {
   "cell_type": "code",
   "execution_count": 10,
   "id": "19ff8ebe",
   "metadata": {},
   "outputs": [
    {
     "name": "stdout",
     "output_type": "stream",
     "text": [
      "Prediction accuracy: 0.8875\n"
     ]
    }
   ],
   "source": [
    "# case 5\n",
    "\n",
    "# number of hidden layers = 2\n",
    "# number of hidden nodes = 200\n",
    "# optimizer = adam\n",
    "\n",
    "mlp_classifier = MLPClassifier(hidden_layer_sizes=(200, 200), \n",
    "                               solver='adam',\n",
    "                               learning_rate_init = 0.001)\n",
    "   \n",
    "mlp_classifier.fit(X_train, y_train)  \n",
    "\n",
    "y_pred = mlp_classifier.predict(X_test)   \n",
    "\n",
    "accuracy = accuracy_score(y_test, y_pred)\n",
    "print(\"Prediction accuracy:\", accuracy)"
   ]
  },
  {
   "cell_type": "code",
   "execution_count": 11,
   "id": "3258d9c3",
   "metadata": {},
   "outputs": [
    {
     "name": "stdout",
     "output_type": "stream",
     "text": [
      "Prediction accuracy: 0.8939\n"
     ]
    }
   ],
   "source": [
    "# case 6\n",
    "\n",
    "# number of hidden layers = 3\n",
    "# number of hidden nodes = 200\n",
    "# optimizer = adam\n",
    "\n",
    "mlp_classifier = MLPClassifier(hidden_layer_sizes=(200, 200, 200), \n",
    "                               solver='adam',\n",
    "                               learning_rate_init = 0.001)\n",
    "   \n",
    "mlp_classifier.fit(X_train, y_train)  \n",
    "\n",
    "y_pred = mlp_classifier.predict(X_test)   \n",
    "\n",
    "accuracy = accuracy_score(y_test, y_pred)\n",
    "print(\"Prediction accuracy:\", accuracy)"
   ]
  },
  {
   "cell_type": "code",
   "execution_count": 12,
   "id": "44e5e90c",
   "metadata": {},
   "outputs": [
    {
     "name": "stdout",
     "output_type": "stream",
     "text": [
      "Prediction accuracy: 0.8655\n"
     ]
    }
   ],
   "source": [
    "# case 7\n",
    "\n",
    "# number of hidden layers = 1\n",
    "# number of hidden nodes = 784\n",
    "# optimizer = adam\n",
    "\n",
    "mlp_classifier = MLPClassifier(hidden_layer_sizes=(784), \n",
    "                               solver='adam',\n",
    "                               learning_rate_init = 0.001)\n",
    "   \n",
    "mlp_classifier.fit(X_train, y_train)  \n",
    "\n",
    "y_pred = mlp_classifier.predict(X_test)   \n",
    "\n",
    "accuracy = accuracy_score(y_test, y_pred)\n",
    "print(\"Prediction accuracy:\", accuracy)"
   ]
  },
  {
   "cell_type": "code",
   "execution_count": 24,
   "id": "21cf302a",
   "metadata": {},
   "outputs": [
    {
     "name": "stdout",
     "output_type": "stream",
     "text": [
      "Prediction accuracy: 0.8904\n"
     ]
    }
   ],
   "source": [
    "# case 8\n",
    "  \n",
    "# number of hidden layers = 2      \n",
    "# number of hidden nodes = 784\n",
    "# optimizer = adam\n",
    "\n",
    "mlp_classifier = MLPClassifier(hidden_layer_sizes=(784, 784), \n",
    "                               solver='adam',\n",
    "                               learning_rate_init = 0.001)\n",
    "   \n",
    "mlp_classifier.fit(X_train, y_train)  \n",
    "\n",
    "y_pred = mlp_classifier.predict(X_test)   \n",
    "\n",
    "accuracy = accuracy_score(y_test, y_pred)\n",
    "print(\"Prediction accuracy:\", accuracy)"
   ]
  },
  {
   "cell_type": "code",
   "execution_count": 14,
   "id": "781f0b92",
   "metadata": {},
   "outputs": [
    {
     "name": "stdout",
     "output_type": "stream",
     "text": [
      "Prediction accuracy: 0.891\n"
     ]
    }
   ],
   "source": [
    "# case 9\n",
    "\n",
    "# number of hidden layers = 3\n",
    "# number of hidden nodes = 784\n",
    "# optimizer = adam\n",
    "\n",
    "mlp_classifier = MLPClassifier(hidden_layer_sizes=(784, 784, 784), \n",
    "                               solver='adam',\n",
    "                               learning_rate_init = 0.001)\n",
    "   \n",
    "mlp_classifier.fit(X_train, y_train)  \n",
    "\n",
    "y_pred = mlp_classifier.predict(X_test)   \n",
    "\n",
    "accuracy = accuracy_score(y_test, y_pred)\n",
    "print(\"Prediction accuracy:\", accuracy)"
   ]
  },
  {
   "cell_type": "code",
   "execution_count": 15,
   "id": "10431c51",
   "metadata": {},
   "outputs": [
    {
     "name": "stdout",
     "output_type": "stream",
     "text": [
      "Prediction accuracy: 0.4286\n"
     ]
    }
   ],
   "source": [
    "# case 10\n",
    "    \n",
    "# number of hidden layers = 1\n",
    "# number of hidden nodes = 50\n",
    "# optimizer = sgd\n",
    "\n",
    "mlp_classifier = MLPClassifier(hidden_layer_sizes=(50), \n",
    "                               solver='sgd',\n",
    "                               learning_rate_init = 0.001)\n",
    "   \n",
    "mlp_classifier.fit(X_train, y_train)  \n",
    "\n",
    "y_pred = mlp_classifier.predict(X_test)   \n",
    "\n",
    "accuracy = accuracy_score(y_test, y_pred)\n",
    "print(\"Prediction accuracy:\", accuracy)"
   ]
  },
  {
   "cell_type": "code",
   "execution_count": 16,
   "id": "60d8d5c7",
   "metadata": {},
   "outputs": [
    {
     "name": "stdout",
     "output_type": "stream",
     "text": [
      "Prediction accuracy: 0.1\n"
     ]
    }
   ],
   "source": [
    "# case 11\n",
    "\n",
    "# number of hidden layers = 2\n",
    "# number of hidden nodes = 50\n",
    "# optimizer = sgd\n",
    "\n",
    "mlp_classifier = MLPClassifier(hidden_layer_sizes=(50, 50), \n",
    "                               solver='sgd',\n",
    "                               learning_rate_init = 0.001)\n",
    "   \n",
    "mlp_classifier.fit(X_train, y_train)  \n",
    "\n",
    "y_pred = mlp_classifier.predict(X_test)   \n",
    "\n",
    "accuracy = accuracy_score(y_test, y_pred)\n",
    "print(\"Prediction accuracy:\", accuracy)"
   ]
  },
  {
   "cell_type": "code",
   "execution_count": 17,
   "id": "1c0edcdb",
   "metadata": {},
   "outputs": [
    {
     "name": "stdout",
     "output_type": "stream",
     "text": [
      "Prediction accuracy: 0.1\n"
     ]
    }
   ],
   "source": [
    "# case 12\n",
    "\n",
    "# number of hidden layers = 3\n",
    "# number of hidden nodes = 50\n",
    "# optimizer = sgd\n",
    "\n",
    "mlp_classifier = MLPClassifier(hidden_layer_sizes=(50, 50, 50),\n",
    "                               solver='sgd',\n",
    "                               learning_rate_init = 0.001)\n",
    "   \n",
    "mlp_classifier.fit(X_train, y_train)  \n",
    "\n",
    "y_pred = mlp_classifier.predict(X_test)   \n",
    "\n",
    "accuracy = accuracy_score(y_test, y_pred)\n",
    "print(\"Prediction accuracy:\", accuracy)"
   ]
  },
  {
   "cell_type": "code",
   "execution_count": 18,
   "id": "5bde49d1",
   "metadata": {},
   "outputs": [
    {
     "name": "stdout",
     "output_type": "stream",
     "text": [
      "Prediction accuracy: 0.8398\n"
     ]
    },
    {
     "name": "stderr",
     "output_type": "stream",
     "text": [
      "/Users/azura/opt/anaconda3/lib/python3.9/site-packages/sklearn/neural_network/_multilayer_perceptron.py:686: ConvergenceWarning: Stochastic Optimizer: Maximum iterations (200) reached and the optimization hasn't converged yet.\n",
      "  warnings.warn(\n"
     ]
    }
   ],
   "source": [
    "# case 13\n",
    "\n",
    "# number of hidden layers = 1\n",
    "# number of hidden nodes = 200\n",
    "# optimizer = sgd\n",
    "\n",
    "mlp_classifier = MLPClassifier(hidden_layer_sizes=(200), \n",
    "                               solver='sgd',\n",
    "                               learning_rate_init = 0.001)\n",
    "   \n",
    "mlp_classifier.fit(X_train, y_train)  \n",
    "\n",
    "y_pred = mlp_classifier.predict(X_test)   \n",
    "\n",
    "accuracy = accuracy_score(y_test, y_pred)\n",
    "print(\"Prediction accuracy:\", accuracy)"
   ]
  },
  {
   "cell_type": "code",
   "execution_count": 19,
   "id": "e75f291d",
   "metadata": {},
   "outputs": [
    {
     "name": "stdout",
     "output_type": "stream",
     "text": [
      "Prediction accuracy: 0.1\n"
     ]
    }
   ],
   "source": [
    "# case 14\n",
    "\n",
    "# number of hidden layers = 2\n",
    "# number of hidden nodes = 200\n",
    "# optimizer = sgd\n",
    "\n",
    "mlp_classifier = MLPClassifier(hidden_layer_sizes=(200, 200), \n",
    "                               solver='sgd',\n",
    "                               learning_rate_init = 0.001)\n",
    "   \n",
    "mlp_classifier.fit(X_train, y_train)  \n",
    "\n",
    "y_pred = mlp_classifier.predict(X_test)   \n",
    "\n",
    "accuracy = accuracy_score(y_test, y_pred)\n",
    "print(\"Prediction accuracy:\", accuracy)"
   ]
  },
  {
   "cell_type": "code",
   "execution_count": 20,
   "id": "a18c0bb1",
   "metadata": {},
   "outputs": [
    {
     "name": "stdout",
     "output_type": "stream",
     "text": [
      "Prediction accuracy: 0.8559\n"
     ]
    },
    {
     "name": "stderr",
     "output_type": "stream",
     "text": [
      "/Users/azura/opt/anaconda3/lib/python3.9/site-packages/sklearn/neural_network/_multilayer_perceptron.py:686: ConvergenceWarning: Stochastic Optimizer: Maximum iterations (200) reached and the optimization hasn't converged yet.\n",
      "  warnings.warn(\n"
     ]
    }
   ],
   "source": [
    "# case 15\n",
    "\n",
    "# number of hidden layers = 3\n",
    "# number of hidden nodes = 200\n",
    "# optimizer = sgd\n",
    "\n",
    "mlp_classifier = MLPClassifier(hidden_layer_sizes=(200, 200, 200), \n",
    "                               solver='sgd',\n",
    "                               learning_rate_init = 0.001)\n",
    "   \n",
    "mlp_classifier.fit(X_train, y_train)  \n",
    "\n",
    "y_pred = mlp_classifier.predict(X_test)   \n",
    "\n",
    "accuracy = accuracy_score(y_test, y_pred)\n",
    "print(\"Prediction accuracy:\", accuracy)"
   ]
  },
  {
   "cell_type": "code",
   "execution_count": 21,
   "id": "d2276e41",
   "metadata": {},
   "outputs": [
    {
     "name": "stderr",
     "output_type": "stream",
     "text": [
      "/Users/azura/opt/anaconda3/lib/python3.9/site-packages/sklearn/neural_network/_multilayer_perceptron.py:686: ConvergenceWarning: Stochastic Optimizer: Maximum iterations (200) reached and the optimization hasn't converged yet.\n",
      "  warnings.warn(\n"
     ]
    },
    {
     "name": "stdout",
     "output_type": "stream",
     "text": [
      "Prediction accuracy: 0.8695\n"
     ]
    }
   ],
   "source": [
    "# case 16\n",
    "\n",
    "# number of hidden layers = 1\n",
    "# number of hidden nodes = 784\n",
    "# optimizer = sgd\n",
    "\n",
    "mlp_classifier = MLPClassifier(hidden_layer_sizes=(784), \n",
    "                               solver='sgd',\n",
    "                               learning_rate_init = 0.001)\n",
    "   \n",
    "mlp_classifier.fit(X_train, y_train)  \n",
    "\n",
    "y_pred = mlp_classifier.predict(X_test)   \n",
    "\n",
    "accuracy = accuracy_score(y_test, y_pred)\n",
    "print(\"Prediction accuracy:\", accuracy)"
   ]
  },
  {
   "cell_type": "code",
   "execution_count": 22,
   "id": "8a762a20",
   "metadata": {},
   "outputs": [
    {
     "name": "stdout",
     "output_type": "stream",
     "text": [
      "Prediction accuracy: 0.1744\n"
     ]
    }
   ],
   "source": [
    "# case 17\n",
    "\n",
    "# number of hidden layers = 2\n",
    "# number of hidden nodes = 784\n",
    "# optimizer = sgd\n",
    "\n",
    "mlp_classifier = MLPClassifier(hidden_layer_sizes=(784, 784), \n",
    "                               solver='sgd',\n",
    "                               learning_rate_init = 0.001)\n",
    "   \n",
    "mlp_classifier.fit(X_train, y_train)  \n",
    "\n",
    "y_pred = mlp_classifier.predict(X_test)   \n",
    "\n",
    "accuracy = accuracy_score(y_test, y_pred)\n",
    "print(\"Prediction accuracy:\", accuracy)"
   ]
  },
  {
   "cell_type": "code",
   "execution_count": 23,
   "id": "3e8a3cb4",
   "metadata": {},
   "outputs": [
    {
     "name": "stdout",
     "output_type": "stream",
     "text": [
      "Prediction accuracy: 0.8731\n"
     ]
    }
   ],
   "source": [
    "# case 18\n",
    "\n",
    "# number of hidden layers = 3\n",
    "# number of hidden nodes = 784\n",
    "# optimizer = sgd\n",
    "\n",
    "mlp_classifier = MLPClassifier(hidden_layer_sizes=(784, 784, 784), \n",
    "                               solver='sgd',\n",
    "                               learning_rate_init = 0.001)\n",
    "   \n",
    "mlp_classifier.fit(X_train, y_train)  \n",
    "\n",
    "y_pred = mlp_classifier.predict(X_test)   \n",
    "\n",
    "accuracy = accuracy_score(y_test, y_pred)\n",
    "print(\"Prediction accuracy:\", accuracy)"
   ]
  }
 ],
 "metadata": {
  "kernelspec": {
   "display_name": "Python 3 (ipykernel)",
   "language": "python",
   "name": "python3"
  },
  "language_info": {
   "codemirror_mode": {
    "name": "ipython",
    "version": 3
   },
   "file_extension": ".py",
   "mimetype": "text/x-python",
   "name": "python",
   "nbconvert_exporter": "python",
   "pygments_lexer": "ipython3",
   "version": "3.9.7"
  }
 },
 "nbformat": 4,
 "nbformat_minor": 5
}
