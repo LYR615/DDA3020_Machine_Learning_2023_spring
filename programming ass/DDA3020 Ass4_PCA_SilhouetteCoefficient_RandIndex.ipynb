{
 "cells": [
  {
   "cell_type": "markdown",
   "id": "b1c4faef",
   "metadata": {},
   "source": [
    "## 1.  "
   ]
  },
  {
   "cell_type": "markdown",
   "id": "ac1b88d7",
   "metadata": {},
   "source": [
    "## PCA   "
   ]
  },
  {
   "cell_type": "code",
   "execution_count": 1,
   "id": "ff8b7338",
   "metadata": {},
   "outputs": [],
   "source": [
    "import numpy as np  \n",
    "import random     \n",
    "import math  \n",
    "from collections import defaultdict   "
   ]
  },
  {
   "cell_type": "code",
   "execution_count": 2,
   "id": "15f5dc40",
   "metadata": {},
   "outputs": [],
   "source": [
    "with open('/Users/azura/Desktop/DDA3020_ass4/seeds_dataset.txt') as file:\n",
    "    lines = file.readlines()    \n",
    "    \n",
    "data = np.array([[float(x) for x in line.split()] for line in lines])\n",
    "  \n",
    "X = data.T[:-1, :]    \n",
    "       \n",
    "# true labels  \n",
    "Y = data.T[-1]    "
   ]
  },
  {
   "cell_type": "code",
   "execution_count": 3,
   "id": "9c89361d",
   "metadata": {},
   "outputs": [],
   "source": [
    "K = 2    "
   ]
  },
  {
   "cell_type": "code",
   "execution_count": 4,
   "id": "0b9153f1",
   "metadata": {},
   "outputs": [],
   "source": [
    "mu = np.mean(X, axis=1).reshape((-1, 1))      \n",
    "X_centered = X - mu    \n",
    "sigma = (X_centered @ X_centered.T)/ X.shape[1]  "
   ]
  },
  {
   "cell_type": "code",
   "execution_count": 5,
   "id": "9097f884",
   "metadata": {},
   "outputs": [],
   "source": [
    "eigenvalues, eigenvectors = np.linalg.eig(sigma)     \n",
    "idx = eigenvalues.argsort()[::-1][:K]     \n",
    "eigenvalues_sorted = eigenvalues[idx]       "
   ]
  },
  {
   "cell_type": "code",
   "execution_count": 6,
   "id": "417d42e9",
   "metadata": {},
   "outputs": [],
   "source": [
    "U = eigenvectors[:, idx]           "
   ]
  },
  {
   "cell_type": "code",
   "execution_count": 7,
   "id": "0988cc27",
   "metadata": {},
   "outputs": [],
   "source": [
    "z = U.T @ X_centered    "
   ]
  },
  {
   "cell_type": "code",
   "execution_count": null,
   "id": "1538ed1d",
   "metadata": {},
   "outputs": [],
   "source": [
    " "
   ]
  },
  {
   "cell_type": "markdown",
   "id": "1ee54cd5",
   "metadata": {},
   "source": [
    "## K-means      "
   ]
  },
  {
   "cell_type": "code",
   "execution_count": 8,
   "id": "59f4a2a3",
   "metadata": {},
   "outputs": [],
   "source": [
    "def distance(a, b):  \n",
    "    return math.sqrt(sum((x - y) ** 2 for x, y in zip(a, b)))          "
   ]
  },
  {
   "cell_type": "code",
   "execution_count": 9,
   "id": "a13c51cf",
   "metadata": {},
   "outputs": [],
   "source": [
    "def initialize_centroids(X, k):  \n",
    "    centroids = X[:, np.random.choice(X.shape[1], k, replace=False)]\n",
    "    return centroids    "
   ]
  },
  {
   "cell_type": "code",
   "execution_count": 10,
   "id": "1bcd3ea6",
   "metadata": {},
   "outputs": [],
   "source": [
    "def assign_lables(X, centroids, k):  \n",
    "    labels = []\n",
    "        \n",
    "    for point in X.T:      \n",
    "        closest_centroid_index = \\\n",
    "        min(range(k), key=lambda i: distance(point, centroids[:, i]))\n",
    "        labels.append(closest_centroid_index)\n",
    "          \n",
    "    return labels    "
   ]
  },
  {
   "cell_type": "code",
   "execution_count": 11,
   "id": "233e0c35",
   "metadata": {
    "code_folding": []
   },
   "outputs": [],
   "source": [
    "def update_centroids(X, labels, k):       \n",
    "    index_dict = defaultdict(list)      \n",
    "     \n",
    "    for i, num in enumerate(labels):      \n",
    "        index_dict[num].append(i)      \n",
    "    \n",
    "    updated_centroids = [X[:, index_dict[i]].mean(axis=1) for i in range(k)]\n",
    "    \n",
    "    return np.array(updated_centroids).T       "
   ]
  },
  {
   "cell_type": "code",
   "execution_count": 12,
   "id": "fa23901d",
   "metadata": {},
   "outputs": [],
   "source": [
    "def k_means(X, k, max_iterations):\n",
    "    centroids = initialize_centroids(X, k)  \n",
    "    \n",
    "    for i in range(max_iterations):    \n",
    "        labels = assign_lables(X, centroids, k)     \n",
    "        \n",
    "        new_centroids = update_centroids(X, labels, k)  \n",
    "           \n",
    "        if np.all(centroids == new_centroids):\n",
    "            break\n",
    "                  \n",
    "        centroids = new_centroids        \n",
    "          \n",
    "    return labels     "
   ]
  },
  {
   "cell_type": "code",
   "execution_count": 13,
   "id": "e8d1bd5f",
   "metadata": {},
   "outputs": [],
   "source": [
    "k = 3      \n",
    "max_iterations = 50 \n",
    "\n",
    "new_lables = k_means(z, k, max_iterations)                                                  "
   ]
  },
  {
   "cell_type": "code",
   "execution_count": 14,
   "id": "a8715bc7",
   "metadata": {},
   "outputs": [
    {
     "data": {
      "text/plain": [
       "[2,\n",
       " 2,\n",
       " 2,\n",
       " 2,\n",
       " 2,\n",
       " 2,\n",
       " 2,\n",
       " 2,\n",
       " 2,\n",
       " 2,\n",
       " 2,\n",
       " 2,\n",
       " 2,\n",
       " 2,\n",
       " 2,\n",
       " 2,\n",
       " 1,\n",
       " 2,\n",
       " 2,\n",
       " 1,\n",
       " 2,\n",
       " 2,\n",
       " 2,\n",
       " 1,\n",
       " 2,\n",
       " 2,\n",
       " 1,\n",
       " 1,\n",
       " 2,\n",
       " 2,\n",
       " 2,\n",
       " 2,\n",
       " 2,\n",
       " 2,\n",
       " 2,\n",
       " 2,\n",
       " 2,\n",
       " 0,\n",
       " 2,\n",
       " 1,\n",
       " 2,\n",
       " 2,\n",
       " 2,\n",
       " 2,\n",
       " 2,\n",
       " 2,\n",
       " 2,\n",
       " 2,\n",
       " 2,\n",
       " 2,\n",
       " 2,\n",
       " 2,\n",
       " 2,\n",
       " 2,\n",
       " 2,\n",
       " 2,\n",
       " 2,\n",
       " 2,\n",
       " 2,\n",
       " 1,\n",
       " 1,\n",
       " 1,\n",
       " 1,\n",
       " 1,\n",
       " 2,\n",
       " 2,\n",
       " 2,\n",
       " 2,\n",
       " 2,\n",
       " 1,\n",
       " 0,\n",
       " 0,\n",
       " 0,\n",
       " 0,\n",
       " 0,\n",
       " 0,\n",
       " 0,\n",
       " 0,\n",
       " 0,\n",
       " 0,\n",
       " 0,\n",
       " 0,\n",
       " 0,\n",
       " 0,\n",
       " 0,\n",
       " 0,\n",
       " 0,\n",
       " 0,\n",
       " 0,\n",
       " 0,\n",
       " 0,\n",
       " 0,\n",
       " 0,\n",
       " 0,\n",
       " 0,\n",
       " 0,\n",
       " 0,\n",
       " 0,\n",
       " 0,\n",
       " 0,\n",
       " 2,\n",
       " 0,\n",
       " 0,\n",
       " 0,\n",
       " 0,\n",
       " 0,\n",
       " 0,\n",
       " 0,\n",
       " 0,\n",
       " 0,\n",
       " 0,\n",
       " 0,\n",
       " 0,\n",
       " 0,\n",
       " 0,\n",
       " 0,\n",
       " 0,\n",
       " 0,\n",
       " 0,\n",
       " 0,\n",
       " 0,\n",
       " 0,\n",
       " 2,\n",
       " 0,\n",
       " 2,\n",
       " 0,\n",
       " 0,\n",
       " 0,\n",
       " 0,\n",
       " 0,\n",
       " 0,\n",
       " 0,\n",
       " 2,\n",
       " 2,\n",
       " 2,\n",
       " 2,\n",
       " 0,\n",
       " 2,\n",
       " 2,\n",
       " 2,\n",
       " 1,\n",
       " 1,\n",
       " 1,\n",
       " 1,\n",
       " 1,\n",
       " 1,\n",
       " 1,\n",
       " 1,\n",
       " 1,\n",
       " 1,\n",
       " 1,\n",
       " 1,\n",
       " 1,\n",
       " 1,\n",
       " 1,\n",
       " 1,\n",
       " 1,\n",
       " 1,\n",
       " 1,\n",
       " 1,\n",
       " 1,\n",
       " 1,\n",
       " 1,\n",
       " 1,\n",
       " 1,\n",
       " 1,\n",
       " 1,\n",
       " 1,\n",
       " 1,\n",
       " 1,\n",
       " 1,\n",
       " 1,\n",
       " 1,\n",
       " 1,\n",
       " 1,\n",
       " 1,\n",
       " 1,\n",
       " 1,\n",
       " 1,\n",
       " 1,\n",
       " 1,\n",
       " 1,\n",
       " 1,\n",
       " 1,\n",
       " 1,\n",
       " 1,\n",
       " 1,\n",
       " 1,\n",
       " 1,\n",
       " 1,\n",
       " 1,\n",
       " 1,\n",
       " 1,\n",
       " 1,\n",
       " 1,\n",
       " 1,\n",
       " 1,\n",
       " 1,\n",
       " 1,\n",
       " 1,\n",
       " 1,\n",
       " 1,\n",
       " 1,\n",
       " 1,\n",
       " 1,\n",
       " 1,\n",
       " 1,\n",
       " 1,\n",
       " 1,\n",
       " 1]"
      ]
     },
     "execution_count": 14,
     "metadata": {},
     "output_type": "execute_result"
    }
   ],
   "source": [
    "new_lables  "
   ]
  },
  {
   "cell_type": "markdown",
   "id": "8c3d9323",
   "metadata": {},
   "source": [
    "## 2  "
   ]
  },
  {
   "cell_type": "markdown",
   "id": "3e58444b",
   "metadata": {},
   "source": [
    "## Silhouette Coefficient  "
   ]
  },
  {
   "cell_type": "code",
   "execution_count": 15,
   "id": "003c3662",
   "metadata": {},
   "outputs": [],
   "source": [
    "def silhouette_coefficient(X, labels):\n",
    "    n = len(X)\n",
    "    s = np.zeros(n)        \n",
    "    for i in range(n):  \n",
    "        a_i = np.mean([distance(X[i], X[j]) for j in range(n) \n",
    "                       if labels[j] == labels[i] and i != j])\n",
    "        b_i = min(np.mean([distance(X[i], X[j]) for j in range(n)  \n",
    "                           if labels[j] == k]) for k in set(labels) if k != labels[i])\n",
    "        s[i] = (b_i - a_i) / max(a_i, b_i)\n",
    "    return np.mean(s)"
   ]
  },
  {
   "cell_type": "code",
   "execution_count": 16,
   "id": "bff687be",
   "metadata": {},
   "outputs": [
    {
     "data": {
      "text/plain": [
       "0.4765771593987354"
      ]
     },
     "execution_count": 16,
     "metadata": {},
     "output_type": "execute_result"
    }
   ],
   "source": [
    "silhouette_coefficient(z.T, new_lables)          "
   ]
  },
  {
   "cell_type": "markdown",
   "id": "8c845ce6",
   "metadata": {},
   "source": [
    "## Rand Index    "
   ]
  },
  {
   "cell_type": "code",
   "execution_count": 17,
   "id": "1643d8f7",
   "metadata": {},
   "outputs": [],
   "source": [
    "def rand_index(labels_true, labels_pred):\n",
    "    \n",
    "    n = len(labels_true)\n",
    "    a = 0  \n",
    "    b = 0\n",
    "    \n",
    "    for i in range(n):  \n",
    "        for j in range(i+1, n):  \n",
    "            if (labels_true[i] == labels_true[j]) and (labels_pred[i] == labels_pred[j]): \n",
    "                a += 1\n",
    "            if (labels_true[i] != labels_true[j]) and (labels_pred[i] != labels_pred[j]):  \n",
    "                b += 1\n",
    "\n",
    "    RI = (a + b) / (n * (n - 1) // 2)  \n",
    "    return RI"
   ]
  },
  {
   "cell_type": "code",
   "execution_count": 18,
   "id": "938e9e6f",
   "metadata": {},
   "outputs": [
    {
     "data": {
      "text/plain": [
       "0.8713602187286398"
      ]
     },
     "execution_count": 18,
     "metadata": {},
     "output_type": "execute_result"
    }
   ],
   "source": [
    "a = rand_index(Y, new_lables)    \n",
    "a   "
   ]
  },
  {
   "cell_type": "code",
   "execution_count": null,
   "id": "4640f883",
   "metadata": {},
   "outputs": [],
   "source": []
  }
 ],
 "metadata": {
  "kernelspec": {
   "display_name": "Python 3 (ipykernel)",
   "language": "python",
   "name": "python3"
  },
  "language_info": {
   "codemirror_mode": {
    "name": "ipython",
    "version": 3
   },
   "file_extension": ".py",
   "mimetype": "text/x-python",
   "name": "python",
   "nbconvert_exporter": "python",
   "pygments_lexer": "ipython3",
   "version": "3.9.7"
  }
 },
 "nbformat": 4,
 "nbformat_minor": 5
}
